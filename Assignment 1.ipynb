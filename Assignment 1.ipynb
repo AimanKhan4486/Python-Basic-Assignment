{
 "cells": [
  {
   "cell_type": "markdown",
   "id": "50e26de7-b1d5-4758-a08c-61139b07b92c",
   "metadata": {},
   "source": [
    "# 1. What is Python, and why is it popular?\n"
   ]
  },
  {
   "cell_type": "markdown",
   "id": "67acd5d9-4c1f-49ed-9f9a-7179075f394e",
   "metadata": {},
   "source": [
    "Pyhton is a simple , high level programming language known for its readability and versatility. It's popular becauseit's easy to learn , supports many applications like web development, data sceince, and  AI  and has a large community with powerful libraries."
   ]
  },
  {
   "cell_type": "markdown",
   "id": "9f0cc52b-a653-45b9-a43d-0e0dda5e0ec5",
   "metadata": {},
   "source": [
    "# 2. What is an interpreter in Python? "
   ]
  },
  {
   "cell_type": "markdown",
   "id": "c88cbc38-f4c4-4e89-961c-fb848356b463",
   "metadata": {},
   "source": [
    "In Python, an interpreter is a program that reads and executes Python code line by line.\n",
    "It translates Python code (human-readable) into machine code (understandable by the computer).\n",
    "\n",
    "Unlike a compiler, which translates the whole program at once, an interpreter runs code one statement at a time.\n",
    "\n",
    "This allows quick testing and debugging.\n",
    "\n",
    "The Python interpreter can be accessed through the terminal or an IDE."
   ]
  },
  {
   "cell_type": "markdown",
   "id": "8f55ef72-5e77-43e8-a985-096e2d7be318",
   "metadata": {},
   "source": [
    "# 3. What are pre-defined keywords in Python?"
   ]
  },
  {
   "cell_type": "markdown",
   "id": "10863385-0193-477c-a627-3d6a6fc4f71f",
   "metadata": {},
   "source": [
    "Pre-defined keywords in Python are reserved words that have special meaning to the Python interpreter. You cannot use them as variable names, function names, or identifiers."
   ]
  },
  {
   "cell_type": "markdown",
   "id": "b02d3857-21ab-4f98-b233-bd6ec7f4ecb2",
   "metadata": {},
   "source": [
    "# 4. Can keywords be used as variable names ?"
   ]
  },
  {
   "cell_type": "markdown",
   "id": "2f5ca8ba-5eda-4b62-bab0-07f553018c1e",
   "metadata": {},
   "source": [
    "No, keywords cannot be used as variable names in Python.Because keywords have special meanings in Python syntax. Using them as variable names would confuse the interpreter.\n"
   ]
  },
  {
   "cell_type": "markdown",
   "id": "07e40b4c-3210-43a5-839d-080ad54de02b",
   "metadata": {},
   "source": [
    "# 5. What is mutability in Python? "
   ]
  },
  {
   "cell_type": "markdown",
   "id": "ee4163db-1680-42cf-a1ff-44909c0c69a0",
   "metadata": {},
   "source": [
    "Mutability in Python refers to whether an object’s value can be changed after it is created."
   ]
  },
  {
   "cell_type": "markdown",
   "id": "98abe2b4-9d21-419a-bbb7-2823425ee6cb",
   "metadata": {},
   "source": [
    "# 6. Why are lists mutable, but tuples are immutable ?"
   ]
  },
  {
   "cell_type": "markdown",
   "id": "d1504a0d-8203-4a9d-8e8e-371a38089780",
   "metadata": {},
   "source": [
    "List are mutable because Python allows changes to the contents of a list after it's created — like adding, removing, or updating elements.\n",
    "Tuples are immutable because Python intentionally prevents changes to their content after creation, making them fixed and hashable (which helps in performance and safety).\n",
    "\n"
   ]
  },
  {
   "cell_type": "markdown",
   "id": "b01e911d-ddbf-4dba-9407-fc8a6e4e7739",
   "metadata": {},
   "source": [
    "# 7. What is the difference between “==” and “is” operators in Python ?"
   ]
  },
  {
   "cell_type": "markdown",
   "id": "d1493f4b-7760-4bee-bd61-5c5b1516269f",
   "metadata": {},
   "source": [
    "The == and is operators in Python may seem similar, but they are very different in what they compare.\n",
    "\n",
    "#### == (Equality Operator)\n",
    "\n",
    "Checks if two variables have the same value.\n",
    "\n",
    "It compares contents.\n"
   ]
  },
  {
   "cell_type": "code",
   "execution_count": 1,
   "id": "d030f882-a4db-4e4e-9876-b7b856becbd7",
   "metadata": {},
   "outputs": [
    {
     "name": "stdout",
     "output_type": "stream",
     "text": [
      "True\n"
     ]
    }
   ],
   "source": [
    "a = [1, 2, 3]\n",
    "b = [1, 2, 3]\n",
    "print(a == b)   #True because values are the same.\n"
   ]
  },
  {
   "cell_type": "markdown",
   "id": "f7e4e371-3b36-4d28-92a8-74771185693b",
   "metadata": {},
   "source": [
    "#### is (Identity Operator)\n",
    "Checks if two variables refer to the same object in memory.\n",
    "\n",
    "It compares identity, not content."
   ]
  },
  {
   "cell_type": "code",
   "execution_count": 3,
   "id": "90b9b0dc-e3b2-4f9d-a9fd-476fea281cb8",
   "metadata": {},
   "outputs": [
    {
     "name": "stdout",
     "output_type": "stream",
     "text": [
      "False\n"
     ]
    }
   ],
   "source": [
    "a = [1, 2, 3]\n",
    "b = [1, 2, 3]\n",
    "print(a is b)   #False different objects in memory.\n"
   ]
  },
  {
   "cell_type": "markdown",
   "id": "cb45abe6-79e1-43bc-a68a-5fad5f1d95ab",
   "metadata": {},
   "source": [
    "# 8. What are logical operators in Python?"
   ]
  },
  {
   "cell_type": "markdown",
   "id": "0eeccc67-6557-4f67-bb6d-d5f5cc025720",
   "metadata": {},
   "source": [
    "Logical operators are used to combine conditional statements (expressions that return True or False).\n",
    "1. and         Returns True if both conditions are True\n",
    "2. or          Returns True if at least one condition is True\n",
    "3. not         Inverts the result (True becomes False, and vice versa)"
   ]
  },
  {
   "cell_type": "code",
   "execution_count": 4,
   "id": "9f76e007-b0cf-45c8-a09b-d3bc38f7193e",
   "metadata": {},
   "outputs": [
    {
     "name": "stdout",
     "output_type": "stream",
     "text": [
      "True\n",
      "True\n",
      "False\n"
     ]
    }
   ],
   "source": [
    "x = 7\n",
    "\n",
    "# AND\n",
    "print(x > 5 and x < 10)   # True (both conditions are true)\n",
    "\n",
    "# OR\n",
    "print(x < 5 or x > 6)     # True (one condition is true)\n",
    "\n",
    "# NOT\n",
    "print(not(x > 5))         # False (x > 5 is True, so not makes it False)\n"
   ]
  },
  {
   "cell_type": "markdown",
   "id": "827f64d7-8be2-4a73-b75e-f1f8aa04533c",
   "metadata": {},
   "source": [
    "# 9.What is type casting in Python?"
   ]
  },
  {
   "cell_type": "markdown",
   "id": "bbcd63b9-22d3-41b3-a9be-ff8a7990205b",
   "metadata": {},
   "source": [
    "Type casting is the process of converting one data type into another, like turning a string into an integer, or a float into an integer."
   ]
  },
  {
   "cell_type": "code",
   "execution_count": 8,
   "id": "2dc4182c-7a64-45ca-a043-ccfaa8b979c9",
   "metadata": {},
   "outputs": [
    {
     "name": "stdout",
     "output_type": "stream",
     "text": [
      "10\n",
      "5\n",
      "100\n",
      "3.14\n"
     ]
    }
   ],
   "source": [
    "# String to int\n",
    "num1 = int(\"10\")              # 10\n",
    "print(num1)\n",
    "\n",
    "# Float to int\n",
    "num2 = int(5.9)          # 5\n",
    "print(num2)\n",
    "\n",
    "# Int to string\n",
    "text = str(100)         # \"100\"\n",
    "print(text)\n",
    "\n",
    "# String to float\n",
    "value = float(\"3.14\")   # 3.14\n",
    "print(value)\n"
   ]
  },
  {
   "cell_type": "markdown",
   "id": "047d7d36-5576-4705-8bbd-ff162423a0c4",
   "metadata": {},
   "source": [
    "# 10.What is the difference between implicit and explicit type casting?"
   ]
  },
  {
   "cell_type": "markdown",
   "id": "c91fdf8f-c48d-453b-b31e-9710545664a0",
   "metadata": {},
   "source": [
    "Implicit casting is done automatically by Python, usually during operations involving mixed types. For example, adding an int and a float will convert the int to float automatically.\n",
    "\n",
    "Explicit casting is done manually using functions like int(), float(), or str(). It is used when you want to change the type yourself, like converting \"10\" (a string) to 10 (an integer). However, it may raise an error if the conversion isn’t valid."
   ]
  },
  {
   "cell_type": "code",
   "execution_count": 10,
   "id": "00280d92-1391-4847-b93f-f415fa372bd6",
   "metadata": {},
   "outputs": [
    {
     "name": "stdout",
     "output_type": "stream",
     "text": [
      "7.5\n"
     ]
    }
   ],
   "source": [
    "# IMPLICIT TYPE CASTING\n",
    "\n",
    "x = 5      # int\n",
    "y = 2.5    # float\n",
    "z = x + y  # int + float → float\n",
    "print(z)   # Output: 7.5\n"
   ]
  },
  {
   "cell_type": "code",
   "execution_count": 11,
   "id": "0b99766f-beb9-4d40-8ecb-4dc62ce91537",
   "metadata": {},
   "outputs": [
    {
     "name": "stdout",
     "output_type": "stream",
     "text": [
      "15\n",
      "3\n",
      "100 days\n"
     ]
    }
   ],
   "source": [
    "#EXPLICIT TYPE CASTING\n",
    "\n",
    "# String to int\n",
    "a = \"10\"\n",
    "b = int(a)\n",
    "print(b + 5)  # Output: 15\n",
    "\n",
    "# Float to int\n",
    "x = int(3.9)\n",
    "print(x)      # Output: 3\n",
    "\n",
    "# Int to string\n",
    "n = 100\n",
    "s = str(n)\n",
    "print(s + \" days\")  # Output: 100 days\n"
   ]
  },
  {
   "cell_type": "markdown",
   "id": "6a19137c-9fb3-4926-9eb2-fde10e23b2cf",
   "metadata": {},
   "source": [
    "# 11. What is the purpose of conditional statements in Python?"
   ]
  },
  {
   "cell_type": "markdown",
   "id": "d38ed752-b361-4ff7-abc6-14e662310151",
   "metadata": {},
   "source": [
    "The purpose of conditional statements in Python is to control the flow of a program by making decisions based on certain conditions.\n",
    "\n",
    "They allow your program to execute different blocks of code depending on whether a condition is True or False.\n",
    "\n"
   ]
  },
  {
   "cell_type": "code",
   "execution_count": 12,
   "id": "12d11c2c-fbd1-4bb4-81ea-3084be363862",
   "metadata": {},
   "outputs": [
    {
     "name": "stdout",
     "output_type": "stream",
     "text": [
      "You are eligible to vote.\n"
     ]
    }
   ],
   "source": [
    "age = 18\n",
    "\n",
    "if age >= 18:\n",
    "    print(\"You are eligible to vote.\")\n",
    "else:\n",
    "    print(\"You are not eligible to vote.\")\n"
   ]
  },
  {
   "cell_type": "markdown",
   "id": "23682f10-29d7-4773-a1f4-fd6558261372",
   "metadata": {},
   "source": [
    "# 12.How does the elif statement work?\n"
   ]
  },
  {
   "cell_type": "markdown",
   "id": "93bd9fce-06ec-441e-a324-621913c235e5",
   "metadata": {},
   "source": [
    "The elif (short for else if) statement is used when you want to check multiple conditions in sequence. It runs only if the previous if or elif condition was False.\n",
    "\n"
   ]
  },
  {
   "cell_type": "code",
   "execution_count": 14,
   "id": "d709d828-1578-45b6-87c9-45196f69e849",
   "metadata": {},
   "outputs": [
    {
     "name": "stdout",
     "output_type": "stream",
     "text": [
      "Grade: B\n"
     ]
    }
   ],
   "source": [
    "marks = 75\n",
    "\n",
    "if marks >= 90:\n",
    "    print(\"Grade: A\")\n",
    "elif marks >= 75:\n",
    "    print(\"Grade: B\")\n",
    "elif marks >= 60:\n",
    "    print(\"Grade: C\")\n",
    "else:\n",
    "    print(\"Grade: D\")\n"
   ]
  },
  {
   "cell_type": "markdown",
   "id": "51fd3673-6861-4bd4-8785-97c01727a625",
   "metadata": {},
   "source": [
    "# 13.What is the difference between for and while loops? \n"
   ]
  },
  {
   "cell_type": "markdown",
   "id": "11ed612d-7726-4506-bab5-6f6d099640e5",
   "metadata": {},
   "source": [
    "Both for and while loops are used to repeat a block of code, but they differ in how they control repetition.\n",
    "#### For loop:\n",
    "Used when you know in advance how many times to loop.\n",
    "\n",
    "Loops over a sequence like a list, string, or range."
   ]
  },
  {
   "cell_type": "code",
   "execution_count": 15,
   "id": "5a7669f3-f5eb-4a49-b350-5c0a1797595d",
   "metadata": {},
   "outputs": [
    {
     "name": "stdout",
     "output_type": "stream",
     "text": [
      "0\n",
      "1\n",
      "2\n",
      "3\n",
      "4\n"
     ]
    }
   ],
   "source": [
    "for i in range(5):\n",
    "    print(i)\n"
   ]
  },
  {
   "cell_type": "markdown",
   "id": "d07136a8-7bae-4fbd-848c-e443a2d90a9b",
   "metadata": {},
   "source": [
    "#### while loop:\n",
    "Used when you don’t know in advance how many times to loop.\n",
    "\n",
    "Runs as long as a condition is True."
   ]
  },
  {
   "cell_type": "code",
   "execution_count": 16,
   "id": "965308c1-5c80-454c-b9b6-73e2ae285088",
   "metadata": {},
   "outputs": [
    {
     "name": "stdout",
     "output_type": "stream",
     "text": [
      "0\n",
      "1\n",
      "2\n",
      "3\n",
      "4\n"
     ]
    }
   ],
   "source": [
    "i = 0\n",
    "while i < 5:\n",
    "    print(i)\n",
    "    i += 1\n"
   ]
  },
  {
   "cell_type": "markdown",
   "id": "c0869077-815c-43f2-a29e-eda749718777",
   "metadata": {},
   "source": [
    "# 14. Describe a scenario where a while loop is more suitable than a for loop."
   ]
  },
  {
   "cell_type": "markdown",
   "id": "5856dd67-03c4-4fdf-bfeb-88aee1385962",
   "metadata": {},
   "source": [
    "A while loop is more suitable when you don’t know beforehand how many times the loop should run — the loop should continue until a condition changes."
   ]
  },
  {
   "cell_type": "code",
   "execution_count": null,
   "id": "a3ac1c52-2383-45fa-bc4a-f97625e2402d",
   "metadata": {},
   "outputs": [],
   "source": [
    "correct_password = \"python123\"\n",
    "user_input = \"\"\n",
    "\n",
    "while user_input != correct_password:\n",
    "    user_input = input(\"Enter password: \")\n",
    "\n",
    "print(\"Access granted!\")\n"
   ]
  },
  {
   "cell_type": "markdown",
   "id": "6e30ce09-f9a1-4f28-bfe4-4d1f416680d6",
   "metadata": {},
   "source": [
    "# 15. Write a Python program to print \"Hello, World!\""
   ]
  },
  {
   "cell_type": "code",
   "execution_count": 1,
   "id": "39ea7b32-5d5f-4329-9fde-01eb32a4f26d",
   "metadata": {},
   "outputs": [
    {
     "name": "stdout",
     "output_type": "stream",
     "text": [
      "Hello, World!\n"
     ]
    }
   ],
   "source": [
    "print(\"Hello, World!\")"
   ]
  },
  {
   "cell_type": "markdown",
   "id": "318a23b7-6af2-4689-80de-6812c55d5f3b",
   "metadata": {},
   "source": [
    "# 16. Write a Python program that displays your name and age."
   ]
  },
  {
   "cell_type": "code",
   "execution_count": 2,
   "id": "0953fe50-df77-496d-a1f9-5a477683dbbc",
   "metadata": {},
   "outputs": [
    {
     "name": "stdout",
     "output_type": "stream",
     "text": [
      "Aiman Khan\n",
      "20\n"
     ]
    }
   ],
   "source": [
    "name = \"Aiman Khan\"\n",
    "age = 20\n",
    "print(name)\n",
    "print(age)"
   ]
  },
  {
   "cell_type": "markdown",
   "id": "d49cc8ce-a0a0-4ddb-a5fa-141ebfcd332f",
   "metadata": {},
   "source": [
    "# 17. Write code to print all the pre-defined keywords in Python using the keyword library."
   ]
  },
  {
   "cell_type": "code",
   "execution_count": 3,
   "id": "f5cc4cb0-1b35-428a-b9bc-6e091299fea8",
   "metadata": {},
   "outputs": [
    {
     "name": "stdout",
     "output_type": "stream",
     "text": [
      "Python predefined keywords are:\n",
      "False\n",
      "None\n",
      "True\n",
      "and\n",
      "as\n",
      "assert\n",
      "async\n",
      "await\n",
      "break\n",
      "class\n",
      "continue\n",
      "def\n",
      "del\n",
      "elif\n",
      "else\n",
      "except\n",
      "finally\n",
      "for\n",
      "from\n",
      "global\n",
      "if\n",
      "import\n",
      "in\n",
      "is\n",
      "lambda\n",
      "nonlocal\n",
      "not\n",
      "or\n",
      "pass\n",
      "raise\n",
      "return\n",
      "try\n",
      "while\n",
      "with\n",
      "yield\n"
     ]
    }
   ],
   "source": [
    "import keyword\n",
    "keywords_list = keyword.kwlist\n",
    "print(\"Python predefined keywords are:\")\n",
    "for kw in keywords_list:\n",
    "    print(kw)\n"
   ]
  },
  {
   "cell_type": "markdown",
   "id": "eb61957f-5219-430a-a45f-93054c6b6e7f",
   "metadata": {},
   "source": [
    "# 18. Write a program that checks if a given word is a Python keyword.\n"
   ]
  },
  {
   "cell_type": "code",
   "execution_count": 4,
   "id": "73d27d40-542c-4870-a9e6-5f96de9efb92",
   "metadata": {},
   "outputs": [
    {
     "name": "stdin",
     "output_type": "stream",
     "text": [
      "Enter a word to check if it's a Python keyword:  with\n"
     ]
    },
    {
     "name": "stdout",
     "output_type": "stream",
     "text": [
      "'with' is a Python keyword.\n"
     ]
    }
   ],
   "source": [
    "import keyword\n",
    "word = input(\"Enter a word to check if it's a Python keyword: \")\n",
    "if keyword.iskeyword(word):\n",
    "    print(f\"'{word}' is a Python keyword.\")\n",
    "else:\n",
    "    print(f\"'{word}' is NOT a Python keyword.\")\n"
   ]
  },
  {
   "cell_type": "markdown",
   "id": "ce825b41-7386-47f6-8834-66c52a0a2555",
   "metadata": {},
   "source": [
    "# 19. Create a list and tuple in Python, and demonstrate how attempting to change an element works differently for each."
   ]
  },
  {
   "cell_type": "code",
   "execution_count": 5,
   "id": "83547c43-4a7e-489e-b96c-5100f8febeae",
   "metadata": {},
   "outputs": [
    {
     "name": "stdout",
     "output_type": "stream",
     "text": [
      "Original list: [10, 20, 30]\n",
      "Modified list: [10, 200, 30]\n",
      "Original tuple: (10, 20, 30)\n",
      "Error when modifying tuple: 'tuple' object does not support item assignment\n"
     ]
    }
   ],
   "source": [
    "my_list = [10, 20, 30]\n",
    "my_tuple = (10, 20, 30)\n",
    "\n",
    "print(\"Original list:\", my_list)\n",
    "my_list[1] = 200\n",
    "print(\"Modified list:\", my_list)\n",
    "\n",
    "print(\"Original tuple:\", my_tuple)\n",
    "try:\n",
    "    my_tuple[1] = 200\n",
    "except TypeError as e:\n",
    "    print(\"Error when modifying tuple:\", e)\n"
   ]
  },
  {
   "cell_type": "markdown",
   "id": "54d09f69-2651-4ff5-831e-e4932fb5bbc3",
   "metadata": {},
   "source": [
    "# 20. Write a function to demonstrate the behavior of mutable and immutable arguments."
   ]
  },
  {
   "cell_type": "code",
   "execution_count": 7,
   "id": "d751caa7-38a8-4fe2-8dd9-f805dea5b270",
   "metadata": {},
   "outputs": [
    {
     "name": "stdout",
     "output_type": "stream",
     "text": [
      "\n",
      "Inside function before modification:\n",
      "mutable_arg = [1, 2, 3]\n",
      "immutable_arg = 5\n",
      "\n",
      "Inside function after modification:\n",
      "mutable_arg = [1, 2, 3, 4]\n",
      "immutable_arg = 15\n",
      "\n",
      "Outside function after call:\n",
      "my_list = [1, 2, 3, 4]\n",
      "my_number = 5\n"
     ]
    }
   ],
   "source": [
    "def modify_arguments(mutable_arg, immutable_arg):\n",
    "    print(\"\\nInside function before modification:\")\n",
    "    print(\"mutable_arg =\", mutable_arg)\n",
    "    print(\"immutable_arg =\", immutable_arg)\n",
    "\n",
    "\n",
    "    mutable_arg.append(4)\n",
    "\n",
    "    \n",
    "    immutable_arg += 10\n",
    "\n",
    "    print(\"\\nInside function after modification:\")\n",
    "    print(\"mutable_arg =\", mutable_arg)\n",
    "    print(\"immutable_arg =\", immutable_arg)\n",
    "\n",
    "\n",
    "my_list = [1, 2, 3]\n",
    "my_number = 5\n",
    "\n",
    "\n",
    "modify_arguments(my_list, my_number)\n",
    "print(\"\\nOutside function after call:\")\n",
    "print(\"my_list =\", my_list)       \n",
    "print(\"my_number =\", my_number)   \n"
   ]
  },
  {
   "cell_type": "markdown",
   "id": "71f28850-77ba-4539-aaae-ee8890bc7c66",
   "metadata": {},
   "source": [
    "# 21. Write a program that performs basic arithmetic operations on two user-input numbers."
   ]
  },
  {
   "cell_type": "code",
   "execution_count": 8,
   "id": "fa02a71c-6f03-43b3-b8c3-ee6864e2aff2",
   "metadata": {},
   "outputs": [
    {
     "name": "stdin",
     "output_type": "stream",
     "text": [
      "Enter first number:  4\n",
      "Enter second number:  7\n"
     ]
    },
    {
     "name": "stdout",
     "output_type": "stream",
     "text": [
      "Addition: 11\n",
      "Subtraction: -3\n",
      "Multiplication: 28\n",
      "Division: 0.5714285714285714\n",
      "Modulus: 4\n"
     ]
    }
   ],
   "source": [
    "a = int(input(\"Enter first number: \"))\n",
    "b = int(input(\"Enter second number: \"))\n",
    "\n",
    "print(\"Addition:\", a + b)\n",
    "print(\"Subtraction:\", a - b)\n",
    "print(\"Multiplication:\", a * b)\n",
    "\n",
    "if b != 0:\n",
    "    print(\"Division:\", a / b)\n",
    "    print(\"Modulus:\", a % b)\n",
    "else:\n",
    "    print(\"Cannot divide by zero.\")\n"
   ]
  },
  {
   "cell_type": "markdown",
   "id": "7bdcde3a-88f6-4e4c-9f4a-67fc3143c3b8",
   "metadata": {},
   "source": [
    "# 22. Write a program to demonstrate the use of logical operators."
   ]
  },
  {
   "cell_type": "code",
   "execution_count": 9,
   "id": "6375af55-c89c-4693-b7f5-5c12b2bd8fc4",
   "metadata": {},
   "outputs": [
    {
     "name": "stdin",
     "output_type": "stream",
     "text": [
      "Enter first number:  45\n",
      "Enter second number:  67\n"
     ]
    },
    {
     "name": "stdout",
     "output_type": "stream",
     "text": [
      "Both numbers are positive (AND condition is True).\n",
      "At least one number is positive (OR condition is True).\n",
      "NOT operator example:\n"
     ]
    },
    {
     "data": {
      "text/plain": [
       "<function print(*args, sep=' ', end='\\n', file=None, flush=False)>"
      ]
     },
     "execution_count": 9,
     "metadata": {},
     "output_type": "execute_result"
    }
   ],
   "source": [
    "a = int(input(\"Enter first number: \"))\n",
    "b = int(input(\"Enter second number: \"))\n",
    "\n",
    "if a > 0 and b > 0:\n",
    "    print(\"Both numbers are positive (AND condition is True).\")\n",
    "else:\n",
    "    print(\"At least one number is not positive (AND condition is False).\")\n",
    "\n",
    "if a > 0 or b > 0:\n",
    "    print(\"At least one number is positive (OR condition is True).\")\n",
    "else:\n",
    "    print(\"Both numbers are not positive (OR condition is False).\")\n",
    "\n",
    "print(\"NOT operator example:\")\n",
    "print\n"
   ]
  },
  {
   "cell_type": "markdown",
   "id": "cb53c502-d697-4d42-a2c0-d3358e064c8b",
   "metadata": {},
   "source": [
    "# 23. Write a Python program to convert user input from string to integer, float, and boolean types."
   ]
  },
  {
   "cell_type": "code",
   "execution_count": 10,
   "id": "471a2fe1-2f46-411a-9432-eb011577c01b",
   "metadata": {},
   "outputs": [
    {
     "name": "stdin",
     "output_type": "stream",
     "text": [
      "Enter a value:  5\n"
     ]
    },
    {
     "name": "stdout",
     "output_type": "stream",
     "text": [
      "Integer: 5\n",
      "Float: 5.0\n",
      "Boolean: True\n"
     ]
    }
   ],
   "source": [
    "user_input = input(\"Enter a value: \")\n",
    "\n",
    "try:\n",
    "    int_value = int(user_input)\n",
    "    print(\"Integer:\", int_value)\n",
    "except ValueError:\n",
    "    print(\"Cannot convert to Integer.\")\n",
    "\n",
    "try:\n",
    "    float_value = float(user_input)\n",
    "    print(\"Float:\", float_value)\n",
    "except ValueError:\n",
    "    print(\"Cannot convert to Float.\")\n",
    "\n",
    "bool_value = bool(user_input)\n",
    "print(\"Boolean:\", bool_value)\n"
   ]
  },
  {
   "cell_type": "markdown",
   "id": "6d42739e-386c-4bd1-9d33-b8994dc0c546",
   "metadata": {},
   "source": [
    "# 24. Write code to demonstrate type casting with list elements."
   ]
  },
  {
   "cell_type": "code",
   "execution_count": 11,
   "id": "9a2f7a82-beed-4899-bcab-53766d8cc498",
   "metadata": {},
   "outputs": [
    {
     "name": "stdout",
     "output_type": "stream",
     "text": [
      "Original string list: ['10', '20', '30', '0', '', '100']\n",
      "Integer list: [10, 20, 30, 0, None, 100]\n",
      "Float list: [10.0, 20.0, 30.0, 0.0, None, 100.0]\n",
      "Boolean list: [True, True, True, True, False, True]\n"
     ]
    }
   ],
   "source": [
    "str_list = ['10', '20', '30', '0', '', '100']\n",
    "\n",
    "print(\"Original string list:\", str_list)\n",
    "\n",
    "int_list = []\n",
    "for item in str_list:\n",
    "    try:\n",
    "        int_list.append(int(item))\n",
    "    except ValueError:\n",
    "        int_list.append(None)  \n",
    "print(\"Integer list:\", int_list)\n",
    "float_list = []\n",
    "for item in str_list:\n",
    "    try:\n",
    "        float_list.append(float(item))\n",
    "    except ValueError:\n",
    "        float_list.append(None)\n",
    "print(\"Float list:\", float_list)\n",
    "\n",
    "bool_list = [bool(item) for item in str_list]\n",
    "print(\"Boolean list:\", bool_list)\n"
   ]
  },
  {
   "cell_type": "markdown",
   "id": "ca63a3af-6b2d-4fe6-bcce-8208459ce62e",
   "metadata": {},
   "source": [
    "# 25. Write a program that checks if a number is positive, negative, or zero."
   ]
  },
  {
   "cell_type": "code",
   "execution_count": 12,
   "id": "1491b2bd-f8aa-4568-b7e2-48c545b2354c",
   "metadata": {},
   "outputs": [
    {
     "name": "stdin",
     "output_type": "stream",
     "text": [
      "Enter a number:  23\n"
     ]
    },
    {
     "name": "stdout",
     "output_type": "stream",
     "text": [
      "The number is positive.\n"
     ]
    }
   ],
   "source": [
    "num = float(input(\"Enter a number: \"))\n",
    "\n",
    "if num > 0:\n",
    "    print(\"The number is positive.\")\n",
    "elif num < 0:\n",
    "    print(\"The number is negative.\")\n",
    "else:\n",
    "    print(\"The number is zero.\")\n"
   ]
  },
  {
   "cell_type": "markdown",
   "id": "d0a8ccb6-8871-4018-8b83-0d9e47976314",
   "metadata": {},
   "source": [
    "# 26. Write a for loop to print numbers from 1 to 10."
   ]
  },
  {
   "cell_type": "code",
   "execution_count": 13,
   "id": "b28c9a87-7665-4540-a3b0-50e8eeb827eb",
   "metadata": {},
   "outputs": [
    {
     "name": "stdout",
     "output_type": "stream",
     "text": [
      "1\n",
      "2\n",
      "3\n",
      "4\n",
      "5\n",
      "6\n",
      "7\n",
      "8\n",
      "9\n",
      "10\n"
     ]
    }
   ],
   "source": [
    "for i in range(1, 11):\n",
    "    print(i)\n"
   ]
  },
  {
   "cell_type": "markdown",
   "id": "b6f7ed71-787d-43e1-8ebb-f68d31e6c9a6",
   "metadata": {},
   "source": [
    "# 27. Write a Python program to find the sum of all even numbers between 1 and 50."
   ]
  },
  {
   "cell_type": "code",
   "execution_count": 14,
   "id": "2ee1aa94-f3e6-45ed-89b5-da614525326a",
   "metadata": {},
   "outputs": [
    {
     "name": "stdout",
     "output_type": "stream",
     "text": [
      "Sum of even numbers from 1 to 50 is: 650\n"
     ]
    }
   ],
   "source": [
    "even_sum = 0\n",
    "\n",
    "for i in range(1, 51):\n",
    "    if i % 2 == 0:\n",
    "        even_sum += i\n",
    "\n",
    "print(\"Sum of even numbers from 1 to 50 is:\", even_sum)\n"
   ]
  },
  {
   "cell_type": "markdown",
   "id": "b1777837-7345-4411-b3b5-de2d5d7c5049",
   "metadata": {},
   "source": [
    "# 28. Write a program to reverse a string using a while loop."
   ]
  },
  {
   "cell_type": "code",
   "execution_count": 15,
   "id": "ff7f2252-7b0d-4211-bfbe-b5de1b0c0ccd",
   "metadata": {},
   "outputs": [
    {
     "name": "stdin",
     "output_type": "stream",
     "text": [
      "Enter a string:  aiman\n"
     ]
    },
    {
     "name": "stdout",
     "output_type": "stream",
     "text": [
      "Reversed string: namia\n"
     ]
    }
   ],
   "source": [
    "text = input(\"Enter a string: \")\n",
    "\n",
    "reversed_text = \"\"\n",
    "index = len(text) - 1\n",
    "\n",
    "while index >= 0:\n",
    "    reversed_text += text[index]\n",
    "    index -= 1\n",
    "\n",
    "print(\"Reversed string:\", reversed_text)\n"
   ]
  },
  {
   "cell_type": "markdown",
   "id": "1032f85e-6542-485a-9b7b-311c79d30c33",
   "metadata": {},
   "source": [
    "# 29. Write a Python program to calculate the factorial of a number provided by the user using a while loop."
   ]
  },
  {
   "cell_type": "code",
   "execution_count": 16,
   "id": "35a76bec-7b4c-4961-abd2-344ae57a2c92",
   "metadata": {},
   "outputs": [
    {
     "name": "stdin",
     "output_type": "stream",
     "text": [
      "Enter a number:  23\n"
     ]
    },
    {
     "name": "stdout",
     "output_type": "stream",
     "text": [
      "Factorial of 23 is 25852016738884976640000\n"
     ]
    }
   ],
   "source": [
    "num = int(input(\"Enter a number: \"))\n",
    "\n",
    "factorial = 1\n",
    "i = 1\n",
    "\n",
    "if num < 0:\n",
    "    print(\"Factorial is not defined for negative numbers.\")\n",
    "else:\n",
    "    while i <= num:\n",
    "        factorial *= i\n",
    "        i += 1\n",
    "    print(f\"Factorial of {num} is {factorial}\")\n"
   ]
  },
  {
   "cell_type": "code",
   "execution_count": null,
   "id": "b37d3d30-7f36-4183-b359-cdf1710250b0",
   "metadata": {},
   "outputs": [],
   "source": []
  }
 ],
 "metadata": {
  "kernelspec": {
   "display_name": "Python 3 (ipykernel)",
   "language": "python",
   "name": "python3"
  },
  "language_info": {
   "codemirror_mode": {
    "name": "ipython",
    "version": 3
   },
   "file_extension": ".py",
   "mimetype": "text/x-python",
   "name": "python",
   "nbconvert_exporter": "python",
   "pygments_lexer": "ipython3",
   "version": "3.12.5"
  }
 },
 "nbformat": 4,
 "nbformat_minor": 5
}
